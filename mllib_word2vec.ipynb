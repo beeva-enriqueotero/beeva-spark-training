{
 "metadata": {
  "name": "",
  "signature": "sha256:d91bc308c73e1d9fcc521e7bf73afa4a3617996ba0ee38f35c4b3e83eaafaed3"
 },
 "nbformat": 3,
 "nbformat_minor": 0,
 "worksheets": [
  {
   "cells": [
    {
     "cell_type": "markdown",
     "metadata": {},
     "source": [
      "## Spark MLlib example"
     ]
    },
    {
     "cell_type": "markdown",
     "metadata": {},
     "source": [
      "Launch ipython notebook for pyspark:\n",
      "```bash\n",
      "IPYTHON_OPTS=\"notebook --pylab inline\" SPARK_DRIVER_MEMORY=3G SPARK_EXECUTOR_MEMORY=3G ./bin/pyspark\n",
      "```"
     ]
    },
    {
     "cell_type": "markdown",
     "metadata": {},
     "source": [
      "### Text analysis\n",
      "Example with Spanish Wikipedia"
     ]
    },
    {
     "cell_type": "markdown",
     "metadata": {},
     "source": [
      "Prepare the dataset:\n",
      "```bash\n",
      "wget https://dumps.wikimedia.org/eswiki/20140722/eswiki-20140722-pages-articles1.xml.bz2 -P data/\n",
      "bzcat data/eswiki-20140702-pages-articles1.xml.bz2 | wikipedia-extractor/WikiExtractor.py -cb 250K -o data/es_articles1/\n",
      "find data/es_articles1/ -name '*bz2' -exec bunzip2 -c {} \\; > data/es_articles1.xml\n",
      "bzip2 -z data/es_articles1.xml\n",
      "```"
     ]
    },
    {
     "cell_type": "code",
     "collapsed": false,
     "input": [
      "from pyspark.context import SparkContext\n",
      "myfilename = \"data/es_articles1.xml.bz2\"\n",
      "lines = sc.textFile(myfilename)\n",
      "print lines.take(5)"
     ],
     "language": "python",
     "metadata": {},
     "outputs": [
      {
       "output_type": "stream",
       "stream": "stdout",
       "text": [
        "[u'<doc id=\"126028\" url=\"http://es.wikipedia.org/wiki?curid=126028\" title=\"Villarrobledo\">', u'Villarrobledo', u'', u'Villarrobledo (oficialmente Villarrobledo de la Vega, aunque es una denominaci\\xf3n sin uso pr\\xe1ctico hoy en d\\xeda) es un municipio y una ciudad de la provincia de Albacete (Castilla-La Mancha), Espa\\xf1a, situado al noroeste de la provincia y fronterizo con las provincias de Cuenca y Ciudad Real, en la mancomunidad de La Mancha del J\\xfacar-Centro. Cuenta con una poblaci\\xf3n de 26.485 habitantes (INE 2011). La extensi\\xf3n de su t\\xe9rmino es una de las mayores de Espa\\xf1a.', u'El actual emplazamiento de la ciudad data del siglo XIII aunque en su t\\xe9rmino existen vestigios de asentamientos paleol\\xedticos, de la Edad del Bronce, prerromanos, romanos, hispanomusulmanes y bajomedievales. En el siglo XV recibi\\xf3 el Privilegio de Villazgo en dos ocasiones (Hacia 1440 y en 1476) y, en 1929, el rey Alfonso XIII concedi\\xf3 a Villarrobledo el t\\xedtulo de ciudad gracias a la mediaci\\xf3n del pol\\xedtico y periodista villarrobledense Graciano Atienza Fern\\xe1ndez. Es conocida por eventos multitudinarios como el Carnaval, la Semana Santa o el Festival Vi\\xf1a-Rock, aunque su nombre alcanz\\xf3 resonancia nacional en circunstancias m\\xe1s tr\\xe1gicas; principalmente, cuando en sus cercan\\xedas se libr\\xf3, el 20 de septiembre de 1836, la Batalla de Villarrobledo dentro de la Primera Guerra Carlista, tambi\\xe9n durante la Huelga Revolucionaria de octubre de 1934 en que los insurrectos lograron hacerse con el control de la ciudad y durante varios d\\xedas resistieron a las fuerzas de Orden P\\xfablico ocasionando varios muertos, o en la Guerra Civil Espa\\xf1ola.']\n"
       ]
      }
     ],
     "prompt_number": 1
    },
    {
     "cell_type": "markdown",
     "metadata": {},
     "source": [
      "### Partitioning and cache"
     ]
    },
    {
     "cell_type": "code",
     "collapsed": false,
     "input": [
      "print lines.toDebugString()\n",
      "lines.count()\n",
      "lines.count()"
     ],
     "language": "python",
     "metadata": {},
     "outputs": [
      {
       "output_type": "stream",
       "stream": "stdout",
       "text": [
        "(3) data/es_articles1.xml.bz2 MappedRDD[1] at textFile at NativeMethodAccessorImpl.java:-2 []\n",
        " |  data/es_articles1.xml.bz2 HadoopRDD[0] at textFile at NativeMethodAccessorImpl.java:-2 []\n"
       ]
      },
      {
       "metadata": {},
       "output_type": "pyout",
       "prompt_number": 2,
       "text": [
        "1457356"
       ]
      }
     ],
     "prompt_number": 2
    },
    {
     "cell_type": "markdown",
     "metadata": {},
     "source": [
      "Use *cache()* to optimize execution time. And see what happens in UI *Storage* tab before and after *unpersist()*."
     ]
    },
    {
     "cell_type": "code",
     "collapsed": false,
     "input": [
      "lines.cache()\n",
      "lines.count()\n",
      "lines.count()"
     ],
     "language": "python",
     "metadata": {},
     "outputs": [
      {
       "metadata": {},
       "output_type": "pyout",
       "prompt_number": 3,
       "text": [
        "1457356"
       ]
      }
     ],
     "prompt_number": 3
    },
    {
     "cell_type": "code",
     "collapsed": false,
     "input": [
      "lines.unpersist()"
     ],
     "language": "python",
     "metadata": {},
     "outputs": [
      {
       "metadata": {},
       "output_type": "pyout",
       "prompt_number": 4,
       "text": [
        "data/es_articles1.xml.bz2 MappedRDD[1] at textFile at NativeMethodAccessorImpl.java:-2"
       ]
      }
     ],
     "prompt_number": 4
    },
    {
     "cell_type": "markdown",
     "metadata": {},
     "source": [
      "Use *repartition()* to optimize execution time. See what happens with the number of *stages*"
     ]
    },
    {
     "cell_type": "code",
     "collapsed": false,
     "input": [
      "lines = lines.repartition(8)\n",
      "print lines.toDebugString()\n",
      "lines.count()"
     ],
     "language": "python",
     "metadata": {},
     "outputs": [
      {
       "output_type": "stream",
       "stream": "stdout",
       "text": [
        "(8) MappedRDD[10] at repartition at NativeMethodAccessorImpl.java:-2 []\n",
        " |  CoalescedRDD[9] at repartition at NativeMethodAccessorImpl.java:-2 []\n",
        " |  ShuffledRDD[8] at repartition at NativeMethodAccessorImpl.java:-2 []\n",
        " +-(3) MapPartitionsRDD[7] at repartition at NativeMethodAccessorImpl.java:-2 []\n",
        "    |  data/es_articles1.xml.bz2 MappedRDD[1] at textFile at NativeMethodAccessorImpl.java:-2 []\n",
        "    |  data/es_articles1.xml.bz2 HadoopRDD[0] at textFile at NativeMethodAccessorImpl.java:-2 []\n"
       ]
      },
      {
       "metadata": {},
       "output_type": "pyout",
       "prompt_number": 5,
       "text": [
        "1457356"
       ]
      }
     ],
     "prompt_number": 5
    },
    {
     "cell_type": "markdown",
     "metadata": {},
     "source": [
      "Play with *repartition(n)* and *cache()* in order to minimize execution time"
     ]
    },
    {
     "cell_type": "code",
     "collapsed": false,
     "input": [],
     "language": "python",
     "metadata": {},
     "outputs": []
    },
    {
     "cell_type": "markdown",
     "metadata": {},
     "source": [
      "#### Data cleaning (and *munging*)"
     ]
    },
    {
     "cell_type": "code",
     "collapsed": false,
     "input": [
      "import string\n",
      "import unicodedata\n",
      "import re\n",
      "def clean(x):\n",
      "    x = unicodedata.normalize('NFKD', x).encode('ascii','ignore').lower()\n",
      "    replace_punctuation = string.maketrans(string.punctuation, ' '*len(string.punctuation))\n",
      "    x = x.translate(replace_punctuation)\n",
      "    x = re.sub(' +',' ', x).strip()\n",
      "    return x"
     ],
     "language": "python",
     "metadata": {},
     "outputs": [],
     "prompt_number": 6
    },
    {
     "cell_type": "code",
     "collapsed": false,
     "input": [
      "lines2sentences = lines.flatMap(lambda row: row.split(\".\"))\n",
      "lines2words = lines2sentences.map(lambda row: clean(row).split(\" \"))\n",
      "lines2words = lines2words.filter(lambda x: x[0] != '')\n",
      "print lines2words.take(6)"
     ],
     "language": "python",
     "metadata": {},
     "outputs": [
      {
       "output_type": "stream",
       "stream": "stdout",
       "text": [
        "[['la', 'mayor', 'parte', 'del', 'termino', 'incluido', 'el', 'propio', 'casco', 'urbano', 'se', 'encuentra', 'enclavado', 'en', 'la', 'zona', 'mas', 'llana', 'de', 'la', 'mancha', 'sobre', 'la', 'mitad', 'oriental', 'de', 'la', 'meseta', 'sur'], ['sin', 'embargo', 'su', 'tercio', 'mas', 'meridional', 'esta', 'incluido', 'dentro', 'de', 'los', 'limites', 'del', 'campo', 'de', 'montiel'], ['dentro', 'del', 'casco', 'urbano', 'la', 'media', 'de', 'altitud', 'es', 'de', '721', 'msnm', 'desde', 'el', 'punto', 'mas', 'bajo', '713', '5', 'msnm', 'estacion', 'de', 'ferrocarril', 'al', 'mas', 'alto', '739', 'msnm', 'era', 'de', 'carrasco'], ['en', 'su', 'termino', 'las', 'alturas', 'oscilan', 'entre', 'los', '948', 'cerro', 'de', 'pasaconsol', 'y', 'los', '676', 'msnm', 'molino', 'de', 'la', 'raya'], ['villarrobledo', 'tiene', 'un', 'clima', 'que', 'registra', 'temperaturas', 'extremas', 'muy', 'bajas', 'en', 'invierno', 'llegando', 'a', 'alcanzar', 'valores', 'por', 'debajo', 'de', 'los', '20', 'c', 'p'], ['ej']]\n"
       ]
      }
     ],
     "prompt_number": 7
    },
    {
     "cell_type": "markdown",
     "metadata": {},
     "source": [
      "### Word2Vec doing magic!"
     ]
    },
    {
     "cell_type": "code",
     "collapsed": false,
     "input": [
      "from pyspark.mllib.feature import Word2Vec\n",
      "word2vec = Word2Vec()\n",
      "#word2vec = Word2Vec().setNumPartitions(4)\n",
      "model_es = word2vec.fit(lines2words)"
     ],
     "language": "python",
     "metadata": {},
     "outputs": [],
     "prompt_number": 8
    },
    {
     "cell_type": "markdown",
     "metadata": {},
     "source": [
      "Execution takes about 25 mins (1 partition, 1 machine)"
     ]
    },
    {
     "cell_type": "code",
     "collapsed": false,
     "input": [
      "print(model_es.findSynonyms('rey', 10))\n",
      "print(model_es.findSynonyms('reina', 10))"
     ],
     "language": "python",
     "metadata": {},
     "outputs": [
      {
       "output_type": "stream",
       "stream": "stdout",
       "text": [
        "[(u'monarca', 0.83727866411209106), (u'duque', 0.82540661096572876), (u'trono', 0.80997049808502197), (u'mauregato', 0.80277186632156372), (u'heredero', 0.8010638952255249), (u'segundogenito', 0.79672873020172119), (u'principe', 0.7960391640663147), (u'balduino', 0.7948683500289917), (u'obodas', 0.79402846097946167), (u'batallador', 0.79313600063323975)]\n",
        "[(u'infanta', 0.85894876718521118), (u'emperatriz', 0.84647083282470703), (u'princesa', 0.84341514110565186), (u'consorte', 0.83552277088165283), (u'isabel', 0.82195204496383667), (u'duquesa', 0.81507700681686401), (u'archiduquesa', 0.80420792102813721), (u'primogenita', 0.80209559202194214), (u'juana', 0.78178083896636963), (u'condesa', 0.77559983730316162)]"
       ]
      },
      {
       "output_type": "stream",
       "stream": "stdout",
       "text": [
        "\n"
       ]
      }
     ],
     "prompt_number": 9
    },
    {
     "cell_type": "code",
     "collapsed": false,
     "input": [
      "reina = model_es.transform('reina').toArray()\n",
      "mujer = model_es.transform('mujer').toArray()\n",
      "hombre = model_es.transform('hombre').toArray()\n",
      "print model_es.findSynonyms(reina -mujer +hombre, 10)"
     ],
     "language": "python",
     "metadata": {},
     "outputs": [
      {
       "output_type": "stream",
       "stream": "stdout",
       "text": [
        "[(u'regente', 0.64842969179153442), (u'vasallo', 0.61713933944702148), (u'consorte', 0.60668075084686279), (u'rey', 0.59446310997009277), (u'borbon', 0.58448779582977295), (u'infanta', 0.58212101459503174), (u'palatino', 0.57683539390563965), (u'principe', 0.56376850605010986), (u'segundogenito', 0.56062787771224976), (u'duque', 0.55696600675582886)]\n"
       ]
      }
     ],
     "prompt_number": 10
    },
    {
     "cell_type": "code",
     "collapsed": false,
     "input": [
      "print(model_es.findSynonyms('italia', 10))\n",
      "print(model_es.findSynonyms('francia', 10))"
     ],
     "language": "python",
     "metadata": {},
     "outputs": [
      {
       "output_type": "stream",
       "stream": "stdout",
       "text": [
        "[(u'holanda', 0.86549705266952515), (u'francia', 0.85039252042770386), (u'belgica', 0.83090668916702271), (u'suecia', 0.80788707733154297), (u'alemania', 0.79397726058959961), (u'dinamarca', 0.76720184087753296), (u'lombardia', 0.76659291982650757), (u'hungria', 0.76573777198791504), (u'portugal', 0.75128412246704102), (u'polonia', 0.74456679821014404)]\n",
        "[(u'holanda', 0.86971902847290039), (u'belgica', 0.8680342435836792), (u'italia', 0.85039252042770386), (u'suecia', 0.84939450025558472), (u'portugal', 0.8428846001625061), (u'dinamarca', 0.84239047765731812), (u'alemania', 0.83079540729522705), (u'hungria', 0.79645323753356934), (u'flandes', 0.79140633344650269), (u'inglaterra', 0.78710633516311646)]"
       ]
      },
      {
       "output_type": "stream",
       "stream": "stdout",
       "text": [
        "\n"
       ]
      }
     ],
     "prompt_number": 11
    },
    {
     "cell_type": "code",
     "collapsed": false,
     "input": [
      "francia = model_es.transform('francia').toArray()\n",
      "paris = model_es.transform('paris').toArray()\n",
      "roma = model_es.transform('roma').toArray()\n",
      "print model_es.findSynonyms(francia -paris +roma, 10)"
     ],
     "language": "python",
     "metadata": {},
     "outputs": [
      {
       "output_type": "stream",
       "stream": "stdout",
       "text": [
        "[(u'portugal', 0.73857367038726807), (u'francia', 0.73326361179351807), (u'grecia', 0.72606277465820312), (u'sicilia', 0.71970856189727783), (u'hungria', 0.718375563621521), (u'macedonia', 0.71184861660003662), (u'cerdena', 0.69751888513565063), (u'chipre', 0.67104345560073853), (u'austria', 0.66244536638259888), (u'lotaringia', 0.662026047706604)]\n"
       ]
      }
     ],
     "prompt_number": 12
    },
    {
     "cell_type": "code",
     "collapsed": false,
     "input": [
      "sc.stop()"
     ],
     "language": "python",
     "metadata": {},
     "outputs": [],
     "prompt_number": 13
    }
   ],
   "metadata": {}
  }
 ]
}