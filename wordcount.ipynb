{
 "metadata": {
  "name": ""
 },
 "nbformat": 3,
 "nbformat_minor": 0,
 "worksheets": [
  {
   "cells": [
    {
     "cell_type": "markdown",
     "metadata": {},
     "source": [
      "# Spark exercises\n",
      "\n",
      "Word count examples and more operations with PairRDDs"
     ]
    },
    {
     "cell_type": "code",
     "collapsed": false,
     "input": [
      "from pyspark.context import SparkContext\n",
      "from pyspark.conf import SparkConf"
     ],
     "language": "python",
     "metadata": {},
     "outputs": [],
     "prompt_number": 1
    },
    {
     "cell_type": "code",
     "collapsed": false,
     "input": [
      "lines = sc.textFile(\"data/graphx-wiki-vertices.txt\")"
     ],
     "language": "python",
     "metadata": {},
     "outputs": [],
     "prompt_number": 2
    },
    {
     "cell_type": "markdown",
     "metadata": {},
     "source": [
      "#### Count words as wc -w"
     ]
    },
    {
     "cell_type": "code",
     "collapsed": false,
     "input": [
      "wordsperline = lines.map(lambda line: len(line.split()))\n",
      "wordsperline.take(5)"
     ],
     "language": "python",
     "metadata": {},
     "outputs": [
      {
       "metadata": {},
       "output_type": "pyout",
       "prompt_number": 3,
       "text": [
        "[4, 4, 6, 4, 3]"
       ]
      }
     ],
     "prompt_number": 3
    },
    {
     "cell_type": "code",
     "collapsed": false,
     "input": [
      "wordsperline.sum()"
     ],
     "language": "python",
     "metadata": {},
     "outputs": [
      {
       "metadata": {},
       "output_type": "pyout",
       "prompt_number": 4,
       "text": [
        "90627"
       ]
      }
     ],
     "prompt_number": 4
    },
    {
     "cell_type": "markdown",
     "metadata": {},
     "source": [
      "####Another way:"
     ]
    },
    {
     "cell_type": "code",
     "collapsed": false,
     "input": [
      "words = lines.flatMap(lambda line: line.split())\n",
      "words.take(10)"
     ],
     "language": "python",
     "metadata": {},
     "outputs": [
      {
       "metadata": {},
       "output_type": "pyout",
       "prompt_number": 5,
       "text": [
        "[u'6598434222544540151',\n",
        " u'Adelaide',\n",
        " u'Hanscom',\n",
        " u'Leeson',\n",
        " u'7814958205460279317',\n",
        " u'David',\n",
        " u'Dodge',\n",
        " u'(novelist)',\n",
        " u'3858831448322232257',\n",
        " u'Howard']"
       ]
      }
     ],
     "prompt_number": 5
    },
    {
     "cell_type": "code",
     "collapsed": false,
     "input": [
      "words.count()"
     ],
     "language": "python",
     "metadata": {},
     "outputs": [
      {
       "metadata": {},
       "output_type": "pyout",
       "prompt_number": 6,
       "text": [
        "90627"
       ]
      }
     ],
     "prompt_number": 6
    },
    {
     "cell_type": "markdown",
     "metadata": {},
     "source": [
      "####Generate counts per word:\n",
      "Doing some cleaning and filtering first"
     ]
    },
    {
     "cell_type": "code",
     "collapsed": false,
     "input": [
      "import re\n",
      "def clean(text):\n",
      "    res = re.sub('[^a-z]+', '', text.lower())\n",
      "    return res.strip()\n",
      "cleanwords = words.map(lambda word: clean(word))\n",
      "nonemptywords = cleanwords.filter(lambda word: len(word) > 1)\n",
      "\n",
      "nonemptywords.takeOrdered(10)\n"
     ],
     "language": "python",
     "metadata": {},
     "outputs": [
      {
       "metadata": {},
       "output_type": "pyout",
       "prompt_number": 7,
       "text": [
        "[u'aaahh',\n",
        " u'aachen',\n",
        " u'aacs',\n",
        " u'aaja',\n",
        " u'aaker',\n",
        " u'aaker',\n",
        " u'aaland',\n",
        " u'aaron',\n",
        " u'aaron',\n",
        " u'aaron']"
       ]
      }
     ],
     "prompt_number": 7
    },
    {
     "cell_type": "markdown",
     "metadata": {},
     "source": [
      "We use *map* to generate a PairRDD"
     ]
    },
    {
     "cell_type": "code",
     "collapsed": false,
     "input": [
      "wordcounts = nonemptywords.map(lambda word: (word, 1))\n",
      "wordcounts.takeOrdered(10)"
     ],
     "language": "python",
     "metadata": {},
     "outputs": [
      {
       "metadata": {},
       "output_type": "pyout",
       "prompt_number": 8,
       "text": [
        "[(u'aaahh', 1),\n",
        " (u'aachen', 1),\n",
        " (u'aacs', 1),\n",
        " (u'aaja', 1),\n",
        " (u'aaker', 1),\n",
        " (u'aaker', 1),\n",
        " (u'aaland', 1),\n",
        " (u'aaron', 1),\n",
        " (u'aaron', 1),\n",
        " (u'aaron', 1)]"
       ]
      }
     ],
     "prompt_number": 8
    },
    {
     "cell_type": "markdown",
     "metadata": {},
     "source": [
      "And then apply reduceByKey()"
     ]
    },
    {
     "cell_type": "code",
     "collapsed": false,
     "input": [
      "wordcounts = wordcounts.reduceByKey(lambda a, b: a + b)\n",
      "wordcounts.takeOrdered(10)"
     ],
     "language": "python",
     "metadata": {},
     "outputs": [
      {
       "metadata": {},
       "output_type": "pyout",
       "prompt_number": 9,
       "text": [
        "[(u'aaahh', 1),\n",
        " (u'aachen', 1),\n",
        " (u'aacs', 1),\n",
        " (u'aaja', 1),\n",
        " (u'aaker', 2),\n",
        " (u'aaland', 1),\n",
        " (u'aaron', 13),\n",
        " (u'aarons', 1),\n",
        " (u'aaronson', 2),\n",
        " (u'aayiram', 1)]"
       ]
      }
     ],
     "prompt_number": 9
    },
    {
     "cell_type": "markdown",
     "metadata": {},
     "source": [
      "We can chaining all the methods in one line"
     ]
    },
    {
     "cell_type": "code",
     "collapsed": false,
     "input": [
      "wordcounts = lines.flatMap(lambda line: line.split()).map(lambda word: clean(word)) \\\n",
      "        .filter(lambda word: len(word) > 1).map(lambda word: (word, 1)) \\\n",
      "    .reduceByKey(lambda a, b: a + b)\n",
      "wordcounts = wordcounts.sortByKey()\n",
      "wordcounts.take(10)"
     ],
     "language": "python",
     "metadata": {},
     "outputs": [
      {
       "metadata": {},
       "output_type": "pyout",
       "prompt_number": 10,
       "text": [
        "[(u'aaahh', 1),\n",
        " (u'aachen', 1),\n",
        " (u'aacs', 1),\n",
        " (u'aaja', 1),\n",
        " (u'aaker', 2),\n",
        " (u'aaland', 1),\n",
        " (u'aaron', 13),\n",
        " (u'aarons', 1),\n",
        " (u'aaronson', 2),\n",
        " (u'aayiram', 1)]"
       ]
      }
     ],
     "prompt_number": 10
    },
    {
     "cell_type": "markdown",
     "metadata": {},
     "source": [
      "And store our result in a text file"
     ]
    },
    {
     "cell_type": "code",
     "collapsed": false,
     "input": [
      "wordcounts.saveAsTextFile(\"data/wordcounts/\") "
     ],
     "language": "python",
     "metadata": {},
     "outputs": [],
     "prompt_number": 11
    },
    {
     "cell_type": "markdown",
     "metadata": {},
     "source": [
      "Output file can be in CSV format"
     ]
    },
    {
     "cell_type": "code",
     "collapsed": false,
     "input": [
      "csv = wordcounts.map(lambda a: \"%s,%i\" %(a[0],a[1]))\n",
      "csv.saveAsTextFile(\"data/wordcounts_csv/\") "
     ],
     "language": "python",
     "metadata": {},
     "outputs": [],
     "prompt_number": 12
    },
    {
     "cell_type": "markdown",
     "metadata": {},
     "source": [
      "We can sort by word counts"
     ]
    },
    {
     "cell_type": "code",
     "collapsed": false,
     "input": [
      "wordcounts.map(lambda a: (a[1],a[0])).sortByKey(False).take(10)"
     ],
     "language": "python",
     "metadata": {},
     "outputs": [
      {
       "metadata": {},
       "output_type": "pyout",
       "prompt_number": 13,
       "text": [
        "[(3023, u'of'),\n",
        " (1191, u'list'),\n",
        " (1142, u'the'),\n",
        " (704, u'in'),\n",
        " (463, u'berkeley'),\n",
        " (445, u'california'),\n",
        " (443, u'and'),\n",
        " (421, u'united'),\n",
        " (394, u'team'),\n",
        " (368, u'john')]"
       ]
      }
     ],
     "prompt_number": 13
    },
    {
     "cell_type": "markdown",
     "metadata": {},
     "source": [
      "Or"
     ]
    },
    {
     "cell_type": "code",
     "collapsed": false,
     "input": [
      "wordcounts.map(lambda (word, count): (count, word)).takeOrdered(10, key=lambda x: -x[0])"
     ],
     "language": "python",
     "metadata": {},
     "outputs": [
      {
       "metadata": {},
       "output_type": "pyout",
       "prompt_number": 14,
       "text": [
        "[(3023, u'of'),\n",
        " (1191, u'list'),\n",
        " (1142, u'the'),\n",
        " (704, u'in'),\n",
        " (463, u'berkeley'),\n",
        " (445, u'california'),\n",
        " (443, u'and'),\n",
        " (421, u'united'),\n",
        " (394, u'team'),\n",
        " (368, u'john')]"
       ]
      }
     ],
     "prompt_number": 14
    },
    {
     "cell_type": "markdown",
     "metadata": {},
     "source": [
      "####More examples with PairRDDs"
     ]
    },
    {
     "cell_type": "code",
     "collapsed": false,
     "input": [
      "mypair = lines.map(lambda line: line.split('\\t')).map(lambda field: (field[0], field[1]))\n",
      "mypair.takeOrdered(5)"
     ],
     "language": "python",
     "metadata": {},
     "outputs": [
      {
       "metadata": {},
       "output_type": "pyout",
       "prompt_number": 15,
       "text": [
        "[(u'1000024064623274528', u\"Vincent P. O'Hara\"),\n",
        " (u'1000025160907185508', u'Vincent McDermott'),\n",
        " (u'1000390882544650673',\n",
        "  u'Wikipedia:Version 1.0 Editorial Team/Visual arts articles by quality log'),\n",
        " (u'1000786168171106841', u'Chinadialogue.net'),\n",
        " (u'1001250453944228904', u'Mike MacDonald (rugby union)')]"
       ]
      }
     ],
     "prompt_number": 15
    },
    {
     "cell_type": "code",
     "collapsed": false,
     "input": [
      "links = sc.textFile(\"data/graphx-wiki-edges.txt\")\n",
      "links.first()"
     ],
     "language": "python",
     "metadata": {},
     "outputs": [
      {
       "metadata": {},
       "output_type": "pyout",
       "prompt_number": 16,
       "text": [
        "u'36359329835505530\\t6843358505416683693'"
       ]
      }
     ],
     "prompt_number": 16
    },
    {
     "cell_type": "markdown",
     "metadata": {},
     "source": [
      "This file contains hyperlinks between wikipedia pages"
     ]
    },
    {
     "cell_type": "code",
     "collapsed": false,
     "input": [
      "mylinks = links.map(lambda line: line.split('\\t')).map(lambda field: (field[0], field[1]))\n",
      "mylinks.take(5)"
     ],
     "language": "python",
     "metadata": {},
     "outputs": [
      {
       "metadata": {},
       "output_type": "pyout",
       "prompt_number": 17,
       "text": [
        "[(u'36359329835505530', u'6843358505416683693'),\n",
        " (u'168437400931144903', u'961421098734626813'),\n",
        " (u'168437400931144903', u'1367968407401217879'),\n",
        " (u'168437400931144903', u'2270437664547777682'),\n",
        " (u'168437400931144903', u'2381426201672413470')]"
       ]
      }
     ],
     "prompt_number": 17
    },
    {
     "cell_type": "markdown",
     "metadata": {},
     "source": [
      "Let's join by the first column"
     ]
    },
    {
     "cell_type": "code",
     "collapsed": false,
     "input": [
      "myjoin = mypair.join(mylinks)\n",
      "myjoin.take(5)"
     ],
     "language": "python",
     "metadata": {},
     "outputs": [
      {
       "metadata": {},
       "output_type": "pyout",
       "prompt_number": 18,
       "text": [
        "[(u'6318666534240864577', (u'Nottingham Castle', u'781661258159409243')),\n",
        " (u'204024108237224180', (u'William Gray Purcell', u'1746517089350976281')),\n",
        " (u'3287938922515834035',\n",
        "  (u'John R. Phillips (attorney)', u'4228631675084623881')),\n",
        " (u'2045589670281172877', (u'Johanna Fateman', u'1746517089350976281')),\n",
        " (u'2045589670281172877', (u'Johanna Fateman', u'8262690695090170653'))]"
       ]
      }
     ],
     "prompt_number": 18
    },
    {
     "cell_type": "markdown",
     "metadata": {},
     "source": [
      "And prepare a second join (by the second column)"
     ]
    },
    {
     "cell_type": "code",
     "collapsed": false,
     "input": [
      "myunpacked = myjoin.map(lambda (id1, (name1, id2)): (id2, name1))\n",
      "myunpacked.take(5)"
     ],
     "language": "python",
     "metadata": {},
     "outputs": [
      {
       "metadata": {},
       "output_type": "pyout",
       "prompt_number": 19,
       "text": [
        "[(u'781661258159409243', u'Nottingham Castle'),\n",
        " (u'1746517089350976281', u'William Gray Purcell'),\n",
        " (u'4228631675084623881', u'John R. Phillips (attorney)'),\n",
        " (u'1746517089350976281', u'Johanna Fateman'),\n",
        " (u'8262690695090170653', u'Johanna Fateman')]"
       ]
      }
     ],
     "prompt_number": 19
    },
    {
     "cell_type": "code",
     "collapsed": false,
     "input": [
      "myjoin2 = myunpacked.join(mypair)\n",
      "myjoin2.take(5)"
     ],
     "language": "python",
     "metadata": {},
     "outputs": [
      {
       "metadata": {},
       "output_type": "pyout",
       "prompt_number": 20,
       "text": [
        "[(u'8264321909288731877', (u'Berkeley Middle School', u'School band')),\n",
        " (u'6654235025686786086', (u'Berkeley Vincent', u'Hindenburg Line')),\n",
        " (u'8263111968771891409',\n",
        "  (u'List of University of California, Berkeley alumni in politics and government',\n",
        "   u'Trade union')),\n",
        " (u'2681831712398616933',\n",
        "  (u'Berkeley Springs State Park', u'List of West Virginia state parks')),\n",
        " (u'5556710467414394730', (u'George Berkeley', u'Perspective (graphical)'))]"
       ]
      }
     ],
     "prompt_number": 20
    },
    {
     "cell_type": "markdown",
     "metadata": {},
     "source": [
      "Cleaning it up"
     ]
    },
    {
     "cell_type": "code",
     "collapsed": false,
     "input": [
      "myunpacked2 = myjoin2.map(lambda (id2, (name1, name2)): (name1, name2))\n",
      "myunpacked2.take(5)"
     ],
     "language": "python",
     "metadata": {},
     "outputs": [
      {
       "metadata": {},
       "output_type": "pyout",
       "prompt_number": 21,
       "text": [
        "[(u'Berkeley Middle School', u'School band'),\n",
        " (u'Berkeley Vincent', u'Hindenburg Line'),\n",
        " (u'List of University of California, Berkeley alumni in politics and government',\n",
        "  u'Trade union'),\n",
        " (u'Berkeley Springs State Park', u'List of West Virginia state parks'),\n",
        " (u'George Berkeley', u'Perspective (graphical)')]"
       ]
      }
     ],
     "prompt_number": 21
    },
    {
     "cell_type": "markdown",
     "metadata": {},
     "source": [
      "And filtering to look for something"
     ]
    },
    {
     "cell_type": "code",
     "collapsed": false,
     "input": [
      "s = 'Turing'\n",
      "myunpacked2.filter(lambda x: s in x[0] or s in x[1]).take(10)"
     ],
     "language": "python",
     "metadata": {},
     "outputs": [
      {
       "metadata": {},
       "output_type": "pyout",
       "prompt_number": 22,
       "text": [
        "[(u'List of Turing Award laureates by university affiliation', u'Uc berkeley'),\n",
        " (u'List of University of California, Berkeley faculty', u'Turing Award'),\n",
        " (u'List of University of California, Berkeley alumni', u'Turing Award'),\n",
        " (u'University of California, Berkeley', u'Turing Award')]"
       ]
      }
     ],
     "prompt_number": 22
    },
    {
     "cell_type": "code",
     "collapsed": false,
     "input": [],
     "language": "python",
     "metadata": {},
     "outputs": []
    }
   ],
   "metadata": {}
  }
 ]
}